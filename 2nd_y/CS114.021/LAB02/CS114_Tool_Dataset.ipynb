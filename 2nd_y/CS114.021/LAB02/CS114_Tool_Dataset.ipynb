{
  "nbformat": 4,
  "nbformat_minor": 0,
  "metadata": {
    "colab": {
      "provenance": []
    },
    "kernelspec": {
      "name": "python3",
      "display_name": "Python 3"
    },
    "language_info": {
      "name": "python"
    }
  },
  "cells": [
    {
      "cell_type": "markdown",
      "source": [
        "# THỐNG KÊ DỮ LIỆU\n",
        "\n",
        "1. Yêu cầu chung: Thống kê được số lượng ảnh trong từng phân loại mà mỗi SV đóng góp\n",
        "\n",
        "2. Yêu cầu cụ thể:\n",
        "- Input:\n",
        "    + Thư mục cha chứa các thư mục con - mỗi thư mục con tương ứng với tên của từng hiệu xe (Honda, Suzuki, VinFast, Yamaha, Others). Ví dụ: https://drive.google.com/drive/u/1/folders/12WrC9APRzQX36cataTccBiN_Z5F2C0yD\n",
        "    + Các ảnh được đặt tên theo quy ước: các tập tin ảnh theo quy ước https://colab.research.google.com/drive/1sZBm78OiTUOqbg5-Z2UOKlk3B37TAgd8\n",
        "- Output:\n",
        "    + File MotocycleDataset-1.csv - Thống kê số lượng ảnh theo từng SV\n",
        "      + Mỗi dòng sẽ có các thông tin cách nhau bằng dấu phẩy, theo quy ước: MSSV, All, Số lượng.\n",
        "        \n",
        "        Ví dụ: 20221234, All, 1.2\n",
        "      + Số lượng có thể là số thực vì một ảnh có thể có đóng góp từ nhiều sinh viên\n",
        "    + File MotocycleDataset-2.csv - Thống kê số lượng ảnh theo từng Hiệu xe mà từng SV đóng góp\n",
        "      + Mỗi dòng sẽ có các thông tin cách nhau bằng dấu phẩy, theo quy ước: MSSV, Hiệu xe, Số lượng.\n",
        "        \n",
        "        Ví dụ: 20221234, Honda, 1.2\n",
        "      + Số lượng có thể là số thực vì một ảnh có thể có đóng góp từ nhiều sinh viên\n",
        "3. Nộp bài: SV share notebook. Các bài nộp sớm sẽ được full điểm. Deadline: 17:00 - 08/06/2024\n",
        "\n",
        "4. Bài làm đạt yêu cầu sẽ được paste vào notebook với ghi nhận đóng góp từ tác giả."
      ],
      "metadata": {
        "id": "kXLvTDMGbDjG"
      }
    },
    {
      "cell_type": "code",
      "source": [
        "from google.colab import drive\n",
        "drive.mount('/content/drive')"
      ],
      "metadata": {
        "colab": {
          "base_uri": "https://localhost:8080/"
        },
        "id": "e1YgTcDWSV3Z",
        "outputId": "f3fd6896-2bd1-4a07-e100-5594d97458a3"
      },
      "execution_count": null,
      "outputs": [
        {
          "output_type": "stream",
          "name": "stdout",
          "text": [
            "Drive already mounted at /content/drive; to attempt to forcibly remount, call drive.mount(\"/content/drive\", force_remount=True).\n"
          ]
        }
      ]
    },
    {
      "cell_type": "code",
      "execution_count": null,
      "metadata": {
        "id": "gZOFmsz0a9pF"
      },
      "outputs": [],
      "source": [
        "# Import library\n",
        "import os\n",
        "import re\n",
        "import pandas as pd\n",
        "from collections import defaultdict"
      ]
    },
    {
      "cell_type": "code",
      "source": [
        "# Path to public data folder\n",
        "base_dir = '/content/drive/MyDrive/Public'"
      ],
      "metadata": {
        "id": "6MahLqRHTHAJ"
      },
      "execution_count": null,
      "outputs": []
    },
    {
      "cell_type": "code",
      "source": [
        "# Creeate dictionary\n",
        "student_total_counts = defaultdict(float)\n",
        "student_brand_counts = defaultdict(lambda: defaultdict(float))"
      ],
      "metadata": {
        "id": "PR2fK7YoVQFL"
      },
      "execution_count": null,
      "outputs": []
    },
    {
      "cell_type": "code",
      "source": [
        "valid_extensions = {'.jpg', '.jpeg', '.png', '.heic'}\n",
        "\n",
        "# Process public folder\n",
        "for brand in os.listdir(base_dir):\n",
        "  brand_dir = os.path.join(base_dir, brand)\n",
        "  if os.path.isdir(brand_dir):\n",
        "    # Process each brand folders\n",
        "    for filename in os.listdir(brand_dir):\n",
        "      file_extension = os.path.splitext(filename)[1].lower()\n",
        "      if file_extension in valid_extensions:\n",
        "        # Use regex to extract information through file name\n",
        "        match = re.match(r'((?:\\d{8}-)*\\d{8})\\.(\\w+)\\.(\\d+)\\.(jpg|jpeg|png|heic)', filename, re.IGNORECASE)\n",
        "        if match:\n",
        "          sv_contributions = match.groups()\n",
        "          students = sv_contributions[0].split('-')\n",
        "          brand = sv_contributions[1]\n",
        "\n",
        "          for student in students:\n",
        "            student_total_counts[student] += 1/len(students)\n",
        "            student_brand_counts[student][brand] += 1/len(students)\n"
      ],
      "metadata": {
        "id": "tomDzFadV60_"
      },
      "execution_count": null,
      "outputs": []
    },
    {
      "cell_type": "code",
      "source": [
        "# Tạo dataframe cho file MotocycleDataset-1.csv\n",
        "df1 = pd.DataFrame([(sv, 'All', count) for sv, count in student_total_counts.items()],\n",
        "                   columns=['MSSV', 'All', 'Số lượng'])\n",
        "\n",
        "# Tạo dataframe cho file MotocycleDataset-2.csv\n",
        "df2 = pd.DataFrame([(sv, brand, count) for sv, brands in student_brand_counts.items() for brand, count in brands.items()],\n",
        "                   columns=['MSSV', 'Hiệu xe', 'Số lượng'])\n",
        "\n",
        "# Lưu các dataframe thành file CSV\n",
        "df1.to_csv('MotocycleDataset-1.csv', index=False)\n",
        "df2.to_csv('MotocycleDataset-2.csv', index=False)"
      ],
      "metadata": {
        "id": "oZ10dZiqX23S"
      },
      "execution_count": null,
      "outputs": []
    },
    {
      "cell_type": "markdown",
      "source": [
        "TEST"
      ],
      "metadata": {
        "id": "1zjdtMxsiTnZ"
      }
    },
    {
      "cell_type": "code",
      "source": [
        "filename = '21521007-21522629.Suzuki.8.jpg'\n",
        "match = re.match(r'((?:\\d{8}-)*\\d{8})\\.(\\w+)\\.(\\d+)\\.(jpg|jpeg|png|heic)', filename, re.IGNORECASE)"
      ],
      "metadata": {
        "id": "rTb2A3QgX3I2"
      },
      "execution_count": null,
      "outputs": []
    },
    {
      "cell_type": "code",
      "source": [
        "t = match.groups()"
      ],
      "metadata": {
        "id": "rAHTWbGIbAKC"
      },
      "execution_count": null,
      "outputs": []
    },
    {
      "cell_type": "code",
      "source": [
        "t[0].split('-')"
      ],
      "metadata": {
        "colab": {
          "base_uri": "https://localhost:8080/"
        },
        "id": "jM1pwDB1bGC-",
        "outputId": "d4ee8755-bfe6-48c5-aa43-257b69758a4a"
      },
      "execution_count": null,
      "outputs": [
        {
          "output_type": "execute_result",
          "data": {
            "text/plain": [
              "['21521007', '21522629']"
            ]
          },
          "metadata": {},
          "execution_count": 41
        }
      ]
    }
  ]
}